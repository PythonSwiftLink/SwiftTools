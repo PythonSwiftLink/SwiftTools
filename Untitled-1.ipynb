{
 "cells": [
  {
   "cell_type": "code",
   "execution_count": 4,
   "metadata": {},
   "outputs": [],
   "source": [
    "import ast\n",
    "\n"
   ]
  },
  {
   "cell_type": "code",
   "execution_count": 8,
   "metadata": {},
   "outputs": [
    {
     "name": "stdout",
     "output_type": "stream",
     "text": [
      "Module(\n",
      "    body=[\n",
      "        FunctionDef(\n",
      "            name='some_function',\n",
      "            args=arguments(\n",
      "                posonlyargs=[],\n",
      "                args=[\n",
      "                    arg(arg='self')],\n",
      "                kwonlyargs=[],\n",
      "                kw_defaults=[],\n",
      "                defaults=[]),\n",
      "            body=[\n",
      "                Return(\n",
      "                    value=Constant(value=1))],\n",
      "            decorator_list=[],\n",
      "            returns=Name(id='int', ctx=Load())),\n",
      "        Return(\n",
      "            value=Call(\n",
      "                func=Name(id='some_function', ctx=Load()),\n",
      "                args=[],\n",
      "                keywords=[]))],\n",
      "    type_ignores=[])\n"
     ]
    }
   ],
   "source": [
    "code = \"\"\"\n",
    "def some_function(self) -> int:\n",
    "    return 1\n",
    "\n",
    "return some_function()\n",
    "\"\"\"\n",
    "\n",
    "print(ast.dump(ast.parse(code, mode='exec'), indent=4))"
   ]
  }
 ],
 "metadata": {
  "kernelspec": {
   "display_name": "venv",
   "language": "python",
   "name": "python3"
  },
  "language_info": {
   "codemirror_mode": {
    "name": "ipython",
    "version": 3
   },
   "file_extension": ".py",
   "mimetype": "text/x-python",
   "name": "python",
   "nbconvert_exporter": "python",
   "pygments_lexer": "ipython3",
   "version": "3.10.8"
  },
  "orig_nbformat": 4,
  "vscode": {
   "interpreter": {
    "hash": "c5de30a4833cded155df387a5ecd5f5cb847dd6abe4bf7c7f5fff5717b200df7"
   }
  }
 },
 "nbformat": 4,
 "nbformat_minor": 2
}
